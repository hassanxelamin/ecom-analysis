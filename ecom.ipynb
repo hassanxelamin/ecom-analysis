{
 "cells": [
  {
   "cell_type": "markdown",
   "metadata": {},
   "source": [
    "# Import Required Libraries\n",
    "Import the necessary libraries, including pandas, numpy, and matplotlib."
   ]
  },
  {
   "cell_type": "code",
   "execution_count": 2,
   "metadata": {},
   "outputs": [],
   "source": [
    "# Importing the necessary libraries\n",
    "import pandas as pd  # For data manipulation and analysis\n",
    "import numpy as np  # For numerical operations\n",
    "import matplotlib.pyplot as plt  # For data visualization\n",
    "\n",
    "# Ensuring that the plots are displayed inline in the Jupyter notebook\n",
    "%matplotlib inline"
   ]
  },
  {
   "cell_type": "markdown",
   "metadata": {},
   "source": [
    "# Load the Dataset\n",
    "Use pandas to load the ecom.csv dataset."
   ]
  },
  {
   "cell_type": "code",
   "execution_count": null,
   "metadata": {},
   "outputs": [],
   "source": [
    "# Load the Dataset\n",
    "# Using pandas to load the ecom.csv dataset\n",
    "\n",
    "# Define the path to the dataset\n",
    "df = 'data/ecom.csv'\n",
    "\n",
    "# Use pandas read_csv function to load the dataset with 'latin1' encoding\n",
    "ecom_data = pd.read_csv(df, encoding='iso-8859-1')\n",
    "\n",
    "# Display the first few rows of the dataset to confirm it's loaded correctly\n",
    "ecom_data.head()"
   ]
  },
  {
   "cell_type": "markdown",
   "metadata": {},
   "source": [
    "# Data Cleaning\n",
    "Identify and handle missing values, outliers, and incorrect data types."
   ]
  },
  {
   "cell_type": "code",
   "execution_count": null,
   "metadata": {},
   "outputs": [],
   "source": [
    "# Check for missing values in the dataset\n",
    "missing_values = ecom_data.isnull().sum()\n",
    "\n",
    "# Fill missing values with \"No Description\" in the 'Description' column\n",
    "ecom_data['Description'] = ecom_data['Description'].fillna('No Description')\n",
    "\n",
    "# Drop all rows with missing values in CustomerID\n",
    "ecom_data = ecom_data.dropna(subset=['CustomerID'])\n",
    "\n",
    "# Print the number of missing values in each column\n",
    "print(missing_values)\n",
    "\n",
    "ecom_data['InvoiceDate'] = pd.to_datetime(ecom_data['InvoiceDate'])\n",
    "\n",
    "# Remove any rows where quantity or unitprice is less than or equal to 0\n",
    "ecom_data = ecom_data[(ecom_data['Quantity'] > 0) & (ecom_data['UnitPrice'] > 0)]\n",
    "\n",
    "# Display the first few rows of the dataset to confirm it's loaded correctly\n",
    "ecom_data.head()"
   ]
  },
  {
   "cell_type": "markdown",
   "metadata": {},
   "source": [
    "# Exploratory Data Analysis\n",
    "Perform exploratory data analysis to understand the data better. This can include computing descriptive statistics, creating visualizations, and checking for correlations."
   ]
  },
  {
   "cell_type": "code",
   "execution_count": null,
   "metadata": {},
   "outputs": [],
   "source": [
    "# Exploratory Data Analysis\n",
    "\n",
    "\n",
    "# Summary statistics\n",
    "summary_stats = ecom_data.describe()\n",
    "print(summary_stats)\n",
    "\n",
    "# Count unique items sold\n",
    "unique_items = ecom_data['StockCode'].nunique()\n",
    "print(unique_items)\n",
    "\n",
    "# What are the total sales?\n",
    "ecom_data['Sales'] = ecom_data['Quantity'] * ecom_data['UnitPrice'] \n",
    "top_selling_items = ecom_data.groupby('Description')['Sales'].sum().sort_values(ascending=False).head(10)\n",
    "print(top_selling_items)\n"
   ]
  },
  {
   "cell_type": "markdown",
   "metadata": {},
   "source": [
    "#### **Product Popularity**: What are the most popular products based on quantity sold?"
   ]
  },
  {
   "cell_type": "code",
   "execution_count": null,
   "metadata": {},
   "outputs": [],
   "source": [
    "product_sales = ecom_data.groupby('Description').agg(Total_Quantity_Sold=('Quantity', 'sum')).reset_index()\n",
    "product_sales_sorted = product_sales.sort_values(by='Total_Quantity_Sold', ascending=False)\n",
    "top_10_products = product_sales_sorted.head(10)\n",
    "\n",
    "plt.figure(figsize=(12, 8))\n",
    "plt.barh(top_10_products['Description'], top_10_products['Total_Quantity_Sold'], color='skyblue')\n",
    "plt.xlabel('Total Quantity Sold')\n",
    "plt.ylabel('Product Description')\n",
    "plt.title('Top 10 Products by Total Quantity Sold')\n",
    "plt.gca().invert_yaxis() # To have the product with the highest quantity sold at the top\n",
    "plt.show()"
   ]
  },
  {
   "cell_type": "markdown",
   "metadata": {},
   "source": [
    "#### **Time Series Analysis**: 'World War 2 Gliders' Sales Over Time"
   ]
  },
  {
   "cell_type": "code",
   "execution_count": null,
   "metadata": {},
   "outputs": [],
   "source": [
    "# convert invoice date to datetime\n",
    "ecom_data['InvoiceDate'] = pd.to_datetime(ecom_data['InvoiceDate'])\n",
    "\n",
    "# Time series analysis of sales of world war 2 gliders over time\n",
    "gliders_data = ecom_data[ecom_data['Description'] == 'WORLD WAR 2 GLIDERS ASSTD DESIGNS']\n",
    "\n",
    "# Group data by invoice date and sum up quantities over time\n",
    "gliders_sales_over_time = gliders_data.groupby(gliders_data['InvoiceDate'].dt.to_period('M'))['Quantity'].sum().reset_index()\n",
    "\n",
    "# Convert 'InvoiceDate' to datetime\n",
    "gliders_sales_over_time['InvoiceDate'] = gliders_sales_over_time['InvoiceDate'].dt.to_timestamp()\n",
    "\n",
    "# Plot the time series for the quantity of world war 2 gliders sold over time\n",
    "plt.figure(figsize=(14, 7))\n",
    "plt.plot(gliders_sales_over_time['InvoiceDate'], gliders_sales_over_time['Quantity'], marker='o')\n",
    "plt.title('World War 2 Gliders Sales Over Time')\n",
    "plt.xlabel('Date')\n",
    "plt.ylabel('Quantity Sold')\n",
    "plt.grid(True)\n",
    "plt.show()"
   ]
  },
  {
   "cell_type": "markdown",
   "metadata": {},
   "source": [
    "#### **Analyzing Seasonal Sales**: Comparing November and December with Other Months"
   ]
  },
  {
   "cell_type": "code",
   "execution_count": 33,
   "metadata": {},
   "outputs": [
    {
     "name": "stdout",
     "output_type": "stream",
     "text": [
      "T-statistic: -8.844858351959235, P-value: 9.508165097584817e-19\n",
      "The difference in sales between November and March is statistically significant\n"
     ]
    }
   ],
   "source": [
    "from scipy import stats\n",
    "\n",
    "november_sales = ecom_data[(ecom_data['InvoiceDate'].dt.month == 11) & (ecom_data['InvoiceDate'].dt.year == 2011)]['Quantity']\n",
    "\n",
    "march_sales = ecom_data[(ecom_data['InvoiceDate'].dt.month == 3) & (ecom_data['InvoiceDate'].dt.year == 2011)]['Quantity']\n",
    "\n",
    "t_stat, p_value = stats.ttest_ind(november_sales, march_sales, equal_var=False)\n",
    "\n",
    "print(f\"T-statistic: {t_stat}, P-value: {p_value}\")\n",
    "\n",
    "if p_value < 0.05:\n",
    "    print(\"The difference in sales between November and March is statistically significant\")\n",
    "else:\n",
    "    print(\"The difference in sales between November and March is not statistically significant\")\n",
    "\n"
   ]
  }
 ],
 "metadata": {
  "kernelspec": {
   "display_name": "rocca",
   "language": "python",
   "name": "python3"
  },
  "language_info": {
   "codemirror_mode": {
    "name": "ipython",
    "version": 3
   },
   "file_extension": ".py",
   "mimetype": "text/x-python",
   "name": "python",
   "nbconvert_exporter": "python",
   "pygments_lexer": "ipython3",
   "version": "3.12.0"
  },
  "orig_nbformat": 4
 },
 "nbformat": 4,
 "nbformat_minor": 2
}
