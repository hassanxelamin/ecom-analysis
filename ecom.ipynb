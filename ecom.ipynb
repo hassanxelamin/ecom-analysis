{
 "cells": [
  {
   "cell_type": "markdown",
   "metadata": {},
   "source": [
    "# Import Required Libraries\n",
    "Import the necessary libraries, including pandas, numpy, and matplotlib."
   ]
  },
  {
   "cell_type": "code",
   "execution_count": null,
   "metadata": {},
   "outputs": [],
   "source": [
    "# Importing the necessary libraries\n",
    "import pandas as pd  # For data manipulation and analysis\n",
    "import numpy as np  # For numerical operations\n",
    "import matplotlib.pyplot as plt  # For data visualization\n",
    "\n",
    "# Ensuring that the plots are displayed inline in the Jupyter notebook\n",
    "%matplotlib inline"
   ]
  },
  {
   "cell_type": "markdown",
   "metadata": {},
   "source": [
    "# Load the Dataset\n",
    "Use pandas to load the ecom.csv dataset."
   ]
  },
  {
   "cell_type": "code",
   "execution_count": null,
   "metadata": {},
   "outputs": [],
   "source": [
    "# Load the Dataset\n",
    "# Using pandas to load the ecom.csv dataset\n",
    "\n",
    "# Define the path to the dataset\n",
    "data_path = 'data/ecom.csv'\n",
    "\n",
    "# Use pandas read_csv function to load the dataset\n",
    "ecom_data = pd.read_csv(data_path)\n",
    "\n",
    "# Display the first few rows of the dataset to confirm it's loaded correctly\n",
    "ecom_data.head()"
   ]
  },
  {
   "cell_type": "markdown",
   "metadata": {},
   "source": [
    "# Data Cleaning\n",
    "Identify and handle missing values, outliers, and incorrect data types."
   ]
  },
  {
   "cell_type": "code",
   "execution_count": null,
   "metadata": {},
   "outputs": [],
   "source": [
    "# Check for missing values in the dataset\n",
    "missing_values = ecom_data.isnull().sum()\n",
    "\n",
    "# Print the number of missing values in each column\n",
    "print(missing_values)\n",
    "\n",
    "# If there are missing values, we can handle them in several ways. \n",
    "# For simplicity, let's just remove the rows with missing values.\n",
    "ecom_data = ecom_data.dropna()\n",
    "\n",
    "# Check the data types of each column\n",
    "print(ecom_data.dtypes)\n",
    "\n",
    "# If there are columns that should be a different data type, we can convert them. \n",
    "# For example, if 'Price' is an object but should be a float, we can convert it like this:\n",
    "# ecom_data['Price'] = ecom_data['Price'].astype(float)\n",
    "\n",
    "# Identify outliers in the 'Price' column using the IQR method\n",
    "Q1 = ecom_data['Price'].quantile(0.25)\n",
    "Q3 = ecom_data['Price'].quantile(0.75)\n",
    "IQR = Q3 - Q1\n",
    "\n",
    "# Define the acceptable range for 'Price'\n",
    "lower_bound = Q1 - 1.5 * IQR\n",
    "upper_bound = Q3 + 1.5 * IQR\n",
    "\n",
    "# Remove outliers from the dataset\n",
    "ecom_data = ecom_data[(ecom_data['Price'] >= lower_bound) & (ecom_data['Price'] <= upper_bound)]"
   ]
  },
  {
   "cell_type": "markdown",
   "metadata": {},
   "source": [
    "# Exploratory Data Analysis\n",
    "Perform exploratory data analysis to understand the data better. This can include computing descriptive statistics, creating visualizations, and checking for correlations."
   ]
  },
  {
   "cell_type": "code",
   "execution_count": null,
   "metadata": {},
   "outputs": [],
   "source": [
    "# Exploratory Data Analysis\n",
    "\n",
    "# Compute descriptive statistics for numerical columns\n",
    "numerical_descriptive_stats = ecom_data.describe()\n",
    "print(numerical_descriptive_stats)\n",
    "\n",
    "# Compute descriptive statistics for categorical columns\n",
    "categorical_descriptive_stats = ecom_data.describe(include=['O'])\n",
    "print(categorical_descriptive_stats)\n",
    "\n",
    "# Visualize the distribution of 'Price' column\n",
    "plt.figure(figsize=(10, 6))\n",
    "plt.hist(ecom_data['Price'], bins=30, color='blue', alpha=0.7)\n",
    "plt.title('Distribution of Price')\n",
    "plt.xlabel('Price')\n",
    "plt.ylabel('Frequency')\n",
    "plt.show()\n",
    "\n",
    "# Visualize the correlation matrix\n",
    "correlation_matrix = ecom_data.corr()\n",
    "plt.figure(figsize=(10, 8))\n",
    "plt.matshow(correlation_matrix, cmap='coolwarm', fignum=1)\n",
    "plt.colorbar()\n",
    "plt.xticks(np.arange(correlation_matrix.shape[1]), correlation_matrix.columns, rotation=90)\n",
    "plt.yticks(np.arange(correlation_matrix.shape[1]), correlation_matrix.columns)\n",
    "plt.title('Correlation Matrix', pad=90)\n",
    "plt.show()\n",
    "\n",
    "# Check for correlations between 'Price' and other numerical variables\n",
    "price_correlations = ecom_data.corr()['Price'].sort_values(ascending=False)\n",
    "print(price_correlations)"
   ]
  }
 ],
 "metadata": {
  "kernelspec": {
   "display_name": "rocca",
   "language": "python",
   "name": "python3"
  },
  "language_info": {
   "name": "python",
   "version": "3.12.0"
  },
  "orig_nbformat": 4
 },
 "nbformat": 4,
 "nbformat_minor": 2
}
